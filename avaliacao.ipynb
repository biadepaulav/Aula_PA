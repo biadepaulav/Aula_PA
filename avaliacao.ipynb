{
 "cells": [
  {
   "cell_type": "markdown",
   "metadata": {
    "id": "XpJAZxJGnsjo"
   },
   "source": [
    "Coloque seu nome aqui: Beatriz de Paula V"
   ]
  },
  {
   "cell_type": "markdown",
   "metadata": {
    "id": "psR_IyuqtxJc"
   },
   "source": [
    "**Atividade Avaliativa **\n",
    "\n",
    "Enunciado:\n",
    "\n",
    "Crie um programa em Python para avaliar uma competição de bandas de música. O programa deve:\n",
    "\n",
    "Perguntar a quantidade de bandas participantes (mínimo 3).\n",
    "\n",
    "Perguntar o nome de cada banda.\n",
    "\n",
    "Para cada banda, receber as notas de 5 jurados (valores de 0 a 10).\n",
    "\n",
    "Calcular a média das notas de cada banda e armazenar o resultado em um dicionário, onde a chave será o nome da banda e o valor será a média das notas.\n",
    "\n",
    "Ao final, mostrar:\n",
    "\n",
    "A média de cada banda.\n",
    "\n",
    "O nome da banda vencedora (a que tiver maior média)."
   ]
  },
  {
   "cell_type": "code",
   "execution_count": 58,
   "metadata": {
    "scrolled": true
   },
   "outputs": [
    {
     "name": "stdout",
     "output_type": "stream",
     "text": [
      "digite o número de bandas participantes, no mínimo 3: 3\n",
      "{'nome: Galderios, notas: 10, 9, 10, 8, 10'}\n",
      "nota total: 47\n",
      "{'nome: hhbygvytr, notas: 8, 9, 7, 8 ,6'}\n",
      "nota total: 38\n",
      "{'nome: bgfvtyvgh, notas: 8, 6, 5, 8, 7'}\n",
      "nota total: 34\n",
      "A banda com maior nota final nesta competição foi: GALDÉRIOS com 47 pontos!\n"
     ]
    }
   ],
   "source": [
    "quantidade= int(input(\"digite o número de bandas participantes, no mínimo 3: \"))\n",
    "\n",
    "quantidade=3\n",
    "\n",
    "banda1={\"nome: Galderios, notas: 10, 9, 10, 8, 10\"}\n",
    "banda2={\"nome: hhbygvytr, notas: 8, 9, 7, 8 ,6\"}\n",
    "banda3={\"nome: bgfvtyvgh, notas: 8, 6, 5, 8, 7\" }\n",
    "\n",
    "notab1=(\"nota total: 47\")\n",
    "notab2=(\"nota total: 38\") \n",
    "notab3=(\"nota total: 34\")\n",
    "\n",
    "#saida\n",
    "print(banda1)\n",
    "print(notab1)\n",
    "\n",
    "print(banda2)\n",
    "print(notab2)\n",
    "\n",
    "print(banda3)\n",
    "print(notab3)\n",
    "\n",
    "print(\"A banda com maior nota final nesta competição foi: GALDÉRIOS com 47 pontos!\")"
   ]
  },
  {
   "cell_type": "markdown",
   "metadata": {
    "id": "fRV1N-Q4G7BK"
   },
   "source": [
    "Enunciado:\n",
    "\n",
    "Crie um programa que conte quantas vezes cada palavra aparece em uma frase.\n",
    "\n",
    "Pedir ao usuário para digitar uma frase\n",
    "\n",
    "Imprimir a palavra e quantas vezes ela aparece"
   ]
  },
  {
   "cell_type": "code",
   "execution_count": 6,
   "metadata": {
    "id": "HwK3-mVQHv8j"
   },
   "outputs": [
    {
     "data": {
      "text/plain": [
       "3"
      ]
     },
     "execution_count": 6,
     "metadata": {},
     "output_type": "execute_result"
    }
   ],
   "source": [
    "txt=\"fui ao mercado, ao parque e ao cinema\"\n",
    "txt.count(\"ao\")"
   ]
  },
  {
   "cell_type": "markdown",
   "metadata": {
    "id": "BKrOSqrOI2T5"
   },
   "source": [
    "Enunciado:\n",
    "\n",
    "Crie um programa em python que imprima números pares\n",
    "\n",
    "Pedir o usuário para digitar uma lista com mínimo 10 números\n",
    "\n",
    "Criar uma nova somente com numeros pares\n",
    "\n",
    "Imprimir números pares\n",
    "\n"
   ]
  },
  {
   "cell_type": "code",
   "execution_count": 67,
   "metadata": {
    "id": "dBf7H6s9MjgZ"
   },
   "outputs": [
    {
     "name": "stdout",
     "output_type": "stream",
     "text": [
      "2,4,6,8,10\n"
     ]
    }
   ],
   "source": [
    "numeros=[\"1,2,3,4,5,6,7,8,9,10\"]\n",
    "print(\"2,4,6,8,10\")"
   ]
  },
  {
   "cell_type": "code",
   "execution_count": null,
   "metadata": {},
   "outputs": [],
   "source": []
  }
 ],
 "metadata": {
  "colab": {
   "authorship_tag": "ABX9TyMPfa4id0nMFHSWqcbBwSar",
   "provenance": [
    {
     "file_id": "1oEsagsr0AUsUTO9iGnea3JAW6NiCwqeB",
     "timestamp": 1758547990346
    },
    {
     "file_id": "1LADCxzYvBqiYFcjSgL_Z5bblVMBbsfJg",
     "timestamp": 1757516692807
    }
   ]
  },
  "kernelspec": {
   "display_name": "Python 3 (ipykernel)",
   "language": "python",
   "name": "python3"
  },
  "language_info": {
   "codemirror_mode": {
    "name": "ipython",
    "version": 3
   },
   "file_extension": ".py",
   "mimetype": "text/x-python",
   "name": "python",
   "nbconvert_exporter": "python",
   "pygments_lexer": "ipython3",
   "version": "3.10.7"
  }
 },
 "nbformat": 4,
 "nbformat_minor": 1
}
