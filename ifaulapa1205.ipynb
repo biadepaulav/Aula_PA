{
  "nbformat": 4,
  "nbformat_minor": 0,
  "metadata": {
    "colab": {
      "provenance": [],
      "authorship_tag": "ABX9TyP3LuEtaHh6ZqPYINcEb6I1",
      "include_colab_link": true
    },
    "kernelspec": {
      "name": "python3",
      "display_name": "Python 3"
    },
    "language_info": {
      "name": "python"
    }
  },
  "cells": [
    {
      "cell_type": "markdown",
      "metadata": {
        "id": "view-in-github",
        "colab_type": "text"
      },
      "source": [
        "<a href=\"https://colab.research.google.com/github/biadepaulav/Aula_PA/blob/main/ifaulapa1205.ipynb\" target=\"_parent\"><img src=\"https://colab.research.google.com/assets/colab-badge.svg\" alt=\"Open In Colab\"/></a>"
      ]
    },
    {
      "cell_type": "markdown",
      "source": [
        "12/05"
      ],
      "metadata": {
        "id": "KnTDjgmf5x_C"
      }
    },
    {
      "cell_type": "markdown",
      "source": [
        "ano bissexto"
      ],
      "metadata": {
        "id": "MoTKbLOJ4OJ-"
      }
    },
    {
      "cell_type": "code",
      "execution_count": 7,
      "metadata": {
        "colab": {
          "base_uri": "https://localhost:8080/"
        },
        "id": "9keYl3JF1LJs",
        "outputId": "f7b96d25-b38d-4c3a-8fbf-11174dc996b0"
      },
      "outputs": [
        {
          "output_type": "stream",
          "name": "stdout",
          "text": [
            "digite o ano2024\n",
            "ano bissexto\n"
          ]
        }
      ],
      "source": [
        "#entrada\n",
        "ano=int(input(\"digite o ano\"))\n",
        "#processamento\n",
        "if ano%4==0 and ano % 100 !=0 or ano % 400== 0:\n",
        "  print('ano bissexto')\n",
        "else:\n",
        "  print('ano não bissexto')"
      ]
    },
    {
      "cell_type": "markdown",
      "source": [
        "faxa etária"
      ],
      "metadata": {
        "id": "OrELf4_Q53rg"
      }
    },
    {
      "cell_type": "code",
      "source": [
        "#entrada\n",
        "idade=int(input('digite sua idade'))\n",
        "#processamento\n",
        "if idade>0 and idade<12:\n",
        "  print('criança')\n",
        "elif idade>=13 and idade <=18:\n",
        "  print('adolescente')\n",
        "else:\n",
        "  print('adulto')"
      ],
      "metadata": {
        "colab": {
          "base_uri": "https://localhost:8080/"
        },
        "id": "XuAXjkBK6wHW",
        "outputId": "6fe1814f-0ae4-4083-895f-c24fb4a3bd3f"
      },
      "execution_count": 15,
      "outputs": [
        {
          "output_type": "stream",
          "name": "stdout",
          "text": [
            "digite sua idade15\n",
            "adolescente\n"
          ]
        }
      ]
    },
    {
      "cell_type": "markdown",
      "source": [
        "25/04"
      ],
      "metadata": {
        "id": "HaFJr1c0GVBN"
      }
    },
    {
      "cell_type": "markdown",
      "source": [
        "par ou impar"
      ],
      "metadata": {
        "id": "Va8E8A3c9A9L"
      }
    },
    {
      "cell_type": "code",
      "source": [
        "#entrada\n",
        "número=int(input('digite um número'))\n",
        "#processamento\n",
        "if número % 2==0:\n",
        "  print('par')\n",
        "else:\n",
        "  print(\"impar\")"
      ],
      "metadata": {
        "colab": {
          "base_uri": "https://localhost:8080/"
        },
        "id": "kRNnPkGH9BnW",
        "outputId": "d787aafd-a8e7-4d5a-d22a-c41e7570057d"
      },
      "execution_count": 16,
      "outputs": [
        {
          "output_type": "stream",
          "name": "stdout",
          "text": [
            "digite um número5\n",
            "impar\n"
          ]
        }
      ]
    },
    {
      "cell_type": "markdown",
      "source": [
        "lados de um triangulo"
      ],
      "metadata": {
        "id": "Ie1NvxzfCzt6"
      }
    },
    {
      "cell_type": "code",
      "source": [
        "#entrada\n",
        "l1=int(input('digite o lado 1'))\n",
        "l2=int(input('digite o lado 2'))\n",
        "l3=int(input('digiteo lado 3'))\n",
        "#processamento\n",
        "if l1 == l2 == l3:\n",
        " print(\"equilatero\")\n",
        "elif l1==l2 or l2==l3 or l1==l3:\n",
        " print('escaleno')"
      ],
      "metadata": {
        "colab": {
          "base_uri": "https://localhost:8080/"
        },
        "id": "kqpz9yKXC9D4",
        "outputId": "2a0ae548-6ea8-44ec-fe56-894e14b410ff"
      },
      "execution_count": 31,
      "outputs": [
        {
          "output_type": "stream",
          "name": "stdout",
          "text": [
            "digite o lado 12\n",
            "digite o lado 22\n",
            "digiteo lado 33\n",
            "escaleno\n"
          ]
        }
      ]
    },
    {
      "cell_type": "markdown",
      "source": [
        "imc"
      ],
      "metadata": {
        "id": "HTV7O1EQELhe"
      }
    },
    {
      "cell_type": "code",
      "source": [
        "#entrada\n",
        "peso=float(input('digite o peso'))\n",
        "altura=float(input('digite a altura'))\n",
        "\n",
        "#processamento\n",
        "imc = peso/altura **2\n",
        "print('o imc é:', imc)\n",
        "\n",
        "if imc<18.5:\n",
        "  print('abaixo')\n",
        "\n",
        "elif imc>18.5 and imc<24.9:\n",
        " print('normal')\n",
        "\n",
        "elif imc>25:\n",
        " print('acima')"
      ],
      "metadata": {
        "colab": {
          "base_uri": "https://localhost:8080/"
        },
        "id": "gN41HYPnERFq",
        "outputId": "d45ad0f3-a088-455a-f85a-1df2cd899c9f"
      },
      "execution_count": 29,
      "outputs": [
        {
          "output_type": "stream",
          "name": "stdout",
          "text": [
            "digite o peso50\n",
            "digite a altura1.6\n",
            "o imc é: 19.531249999999996\n",
            "normal\n"
          ]
        }
      ]
    },
    {
      "cell_type": "markdown",
      "source": [
        "altura e idade"
      ],
      "metadata": {
        "id": "Nv8bHUnnGNC1"
      }
    },
    {
      "cell_type": "code",
      "source": [
        "#entrada\n",
        "idade=int(input('digite sua idade: '))\n",
        "altura=float(input('digite sua altura'))\n",
        "\n",
        "#processamento\n",
        "if idade>17.9 and altura>1.75:\n",
        "  print('participar')\n",
        "\n",
        "elif idade<18 and altura<1.75:\n",
        "  print('não participar')"
      ],
      "metadata": {
        "colab": {
          "base_uri": "https://localhost:8080/"
        },
        "id": "-4J4htFiI1hV",
        "outputId": "6dde7643-a0da-4826-d261-64ee9eeab829"
      },
      "execution_count": 30,
      "outputs": [
        {
          "output_type": "stream",
          "name": "stdout",
          "text": [
            "digite sua idade: 19\n",
            "digite sua altura180\n",
            "participar\n"
          ]
        }
      ]
    }
  ]
}