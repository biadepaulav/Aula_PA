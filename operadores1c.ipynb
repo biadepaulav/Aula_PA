{
  "nbformat": 4,
  "nbformat_minor": 0,
  "metadata": {
    "colab": {
      "provenance": [],
      "authorship_tag": "ABX9TyMYeonxrty2b/znWIIl6I/r",
      "include_colab_link": true
    },
    "kernelspec": {
      "name": "python3",
      "display_name": "Python 3"
    },
    "language_info": {
      "name": "python"
    }
  },
  "cells": [
    {
      "cell_type": "markdown",
      "metadata": {
        "id": "view-in-github",
        "colab_type": "text"
      },
      "source": [
        "<a href=\"https://colab.research.google.com/github/biadepaulav/Aula_PA/blob/main/operadores1c.ipynb\" target=\"_parent\"><img src=\"https://colab.research.google.com/assets/colab-badge.svg\" alt=\"Open In Colab\"/></a>"
      ]
    },
    {
      "cell_type": "code",
      "source": [
        "comparação de idades"
      ],
      "metadata": {
        "id": "20rWeBeBtUoJ"
      },
      "execution_count": null,
      "outputs": []
    },
    {
      "cell_type": "markdown",
      "source": [],
      "metadata": {
        "id": "g-cc_09ktTRM"
      }
    },
    {
      "cell_type": "code",
      "execution_count": 3,
      "metadata": {
        "colab": {
          "base_uri": "https://localhost:8080/"
        },
        "id": "Xxjzk9eBquRL",
        "outputId": "a685f0c4-6cad-4210-88db-af53dabb7f49"
      },
      "outputs": [
        {
          "output_type": "stream",
          "name": "stdout",
          "text": [
            "digite a primeira idade: 12\n",
            "digite a segunda idade: 15\n",
            "a primeira idade é menor que a segunda:  False\n"
          ]
        }
      ],
      "source": [
        "#entrada\n",
        "idade1=float(input('digite a primeira idade: '))\n",
        "idade2=float(input('digite a segunda idade: '))\n",
        "\n",
        "#processamento\n",
        "idades=(idade1>idade2)\n",
        "\n",
        "#saida\n",
        "print('a primeira idade é menor que a segunda: ',idades)\n"
      ]
    },
    {
      "cell_type": "markdown",
      "source": [
        "acesso verificado"
      ],
      "metadata": {
        "id": "zH2b0SSOtamY"
      }
    },
    {
      "cell_type": "code",
      "source": [
        "#entrada\n",
        "idade=float(input('digite a idade: '))\n",
        "senha=float(input('digite a senha: '))\n",
        "#processamento\n",
        "idade18=(idade>18)\n",
        "senha1=(senha==1234)\n",
        "#saida\n",
        "print('idade correta: ',idade18)\n",
        "print('senha correta: ', senha1)\n"
      ],
      "metadata": {
        "colab": {
          "base_uri": "https://localhost:8080/"
        },
        "id": "64RDTs5utgGb",
        "outputId": "991b84ed-38e3-4f2b-c530-195d82b96caf"
      },
      "execution_count": 5,
      "outputs": [
        {
          "output_type": "stream",
          "name": "stdout",
          "text": [
            "digite a idade: 19\n",
            "digite a senha: 1234\n",
            "idade correta:  True\n",
            "senha correta:  True\n"
          ]
        }
      ]
    },
    {
      "cell_type": "markdown",
      "source": [
        "numero 10 a 50"
      ],
      "metadata": {
        "id": "e13217opvIsa"
      }
    },
    {
      "cell_type": "code",
      "source": [
        "#entrada\n",
        "numero=float(input('digite um número: '))\n",
        "\n",
        "#processamento\n",
        "numero1050=(numero<50 and numero>10)\n",
        "\n",
        "#saida\n",
        "print('o numero esta entre 10 e 50: ', numero1050)"
      ],
      "metadata": {
        "colab": {
          "base_uri": "https://localhost:8080/"
        },
        "id": "NYg6kiZUvONV",
        "outputId": "e491aea2-c551-4383-900f-26855e5074f5"
      },
      "execution_count": 7,
      "outputs": [
        {
          "output_type": "stream",
          "name": "stdout",
          "text": [
            "digite um número: 2\n",
            "o numero esta entre 10 e 50:  False\n"
          ]
        }
      ]
    },
    {
      "cell_type": "markdown",
      "source": [
        "compra aprovada"
      ],
      "metadata": {
        "id": "HX5i6z4cwVPR"
      }
    },
    {
      "cell_type": "code",
      "source": [
        "#entrada\n",
        "saldo=float(input('digite o saldo da conta:'))\n",
        "cupom=float(input('digite o cupom: '))\n",
        "compra=float(input('digite o valor da compra: '))\n",
        "\n",
        "#processamento\n",
        "compra1=(saldo>compra) or (cupom=='tem_cupom')\n",
        "\n",
        "#saida\n",
        "print('compra foi aprovada: ',compra1)\n"
      ],
      "metadata": {
        "colab": {
          "base_uri": "https://localhost:8080/"
        },
        "id": "1CSgApH_wj3y",
        "outputId": "58d19c8b-b1a8-4ee4-81e5-58d435872df2"
      },
      "execution_count": 13,
      "outputs": [
        {
          "output_type": "stream",
          "name": "stdout",
          "text": [
            "digite o saldo da conta:1234\n",
            "digite o cupom: 1\n",
            "digite o valor da compra: 123\n",
            "compra foi aprovada:  True\n"
          ]
        }
      ]
    },
    {
      "cell_type": "markdown",
      "source": [
        "condições multiplas"
      ],
      "metadata": {
        "id": "cPFR4prD4Zjj"
      }
    },
    {
      "cell_type": "code",
      "source": [
        "#entrada\n",
        "numero=float(input('digite o numero: '))\n",
        "\n",
        "#processamento\n",
        "par=(numero%2 == 0)\n",
        "positivo=(numero>0)\n",
        "\n",
        "#saida\n",
        "print('o numero é par:', par)\n",
        "print('o numero é positivo:', positivo)\n"
      ],
      "metadata": {
        "colab": {
          "base_uri": "https://localhost:8080/"
        },
        "id": "HWfnz8iu4qnk",
        "outputId": "d8c02033-ed8e-4370-decb-20aa54ac559f"
      },
      "execution_count": 17,
      "outputs": [
        {
          "output_type": "stream",
          "name": "stdout",
          "text": [
            "digite o numero: -4\n",
            "o numero é par: True\n",
            "o numero é positivo: False\n"
          ]
        }
      ]
    },
    {
      "cell_type": "markdown",
      "source": [
        "adolecente"
      ],
      "metadata": {
        "id": "-t7X3KG76Dmw"
      }
    },
    {
      "cell_type": "code",
      "source": [
        "#entrada\n",
        "idade=float(input('digite a idade:'))\n",
        "\n",
        "#processamento\n",
        "adolescente=(idade>=13 and idade<=17)\n",
        "\n",
        "#saida\n",
        "print('a idade corresponde a um adolescente:', adolescente)"
      ],
      "metadata": {
        "colab": {
          "base_uri": "https://localhost:8080/"
        },
        "id": "1hzt3Jjl6L9m",
        "outputId": "8c6bf3f2-8c8e-41d0-bd43-4ed2c62f34cf"
      },
      "execution_count": 19,
      "outputs": [
        {
          "output_type": "stream",
          "name": "stdout",
          "text": [
            "digite a idade:15\n",
            "a idade corresponde a um adolescente: True\n"
          ]
        }
      ]
    },
    {
      "cell_type": "markdown",
      "source": [
        "senha ou admin"
      ],
      "metadata": {
        "id": "peuowd17622-"
      }
    },
    {
      "cell_type": "code",
      "source": [
        "#entrada\n",
        "senha=float(input('digite a senha: '))\n",
        "admin=(input('você é admin? '))\n",
        "\n",
        "#processamento\n",
        "senha1=(senha==12345)\n",
        "admin1=(admin=='admin')\n",
        "\n",
        "#saida\n",
        "print('a senha está correta:', senha1)\n",
        "print('admin:', admin1)"
      ],
      "metadata": {
        "colab": {
          "base_uri": "https://localhost:8080/"
        },
        "id": "-gq5qKPy68yL",
        "outputId": "bee7db5c-d430-4746-bf3a-956c9012be63"
      },
      "execution_count": 25,
      "outputs": [
        {
          "output_type": "stream",
          "name": "stdout",
          "text": [
            "digite a senha: 12345\n",
            "você é admin? admin\n",
            "a senha está correta: True\n",
            "admin: True\n"
          ]
        }
      ]
    },
    {
      "cell_type": "markdown",
      "source": [
        "nota de aprovação"
      ],
      "metadata": {
        "id": "-4NFm64k9i3b"
      }
    },
    {
      "cell_type": "code",
      "source": [
        "#entrada\n",
        "nota=float(input('digite a nota: '))\n",
        "frequencia=(input('digite a frequencia: '))\n",
        "\n",
        "#processamento\n",
        "nota1=(nota>=6)\n",
        "frequencia1=(frequencia=='presente')\n",
        "\n",
        "#saida\n",
        "print('a nota está aprovada:', nota1)\n",
        "print('a freqência está aprovada:', frequencia1)"
      ],
      "metadata": {
        "colab": {
          "base_uri": "https://localhost:8080/"
        },
        "id": "lvb3cUvI9pwj",
        "outputId": "b0460e82-68b7-4d34-9428-687f67a7da8d"
      },
      "execution_count": 26,
      "outputs": [
        {
          "output_type": "stream",
          "name": "stdout",
          "text": [
            "digite a nota: 8\n",
            "digite a frequencia: presente\n",
            "a nota está aprovada: True\n",
            "a freqência está aprovada: True\n"
          ]
        }
      ]
    },
    {
      "cell_type": "markdown",
      "source": [
        "multa de velocidade"
      ],
      "metadata": {
        "id": "95niKEtT_PA9"
      }
    },
    {
      "cell_type": "code",
      "source": [
        "#entrada\n",
        "velocidade=float(input('digite a velocidade em km: '))\n",
        "#processamento\n",
        "multa=(velocidade>80)\n",
        "#saida\n",
        "print('a velocidade está acima da velocidade permitida e ira levar multa:', multa)"
      ],
      "metadata": {
        "colab": {
          "base_uri": "https://localhost:8080/"
        },
        "id": "AOMZtSWQ_Q7t",
        "outputId": "27e249b3-4b8d-40f5-cd2d-5ca2768594db"
      },
      "execution_count": 29,
      "outputs": [
        {
          "output_type": "stream",
          "name": "stdout",
          "text": [
            "digite a velocidade em km: 90\n",
            "a velocidade está acima da velocidade permitida e ira levar multa: True\n"
          ]
        }
      ]
    },
    {
      "cell_type": "markdown",
      "source": [
        "evento"
      ],
      "metadata": {
        "id": "7xrS-IihAEs7"
      }
    },
    {
      "cell_type": "code",
      "source": [
        "#entrada\n",
        "convite=(input('digite o convite: '))\n",
        "\n",
        "#processamento\n",
        "evento=(convite=='tem_convite')\n",
        "\n",
        "#saida\n",
        "print('entrada permitida: ', evento)"
      ],
      "metadata": {
        "colab": {
          "base_uri": "https://localhost:8080/"
        },
        "id": "bbqSSo4TAKBY",
        "outputId": "9c82156a-e65f-4aab-99f7-c5a7ab4d24cd"
      },
      "execution_count": 32,
      "outputs": [
        {
          "output_type": "stream",
          "name": "stdout",
          "text": [
            "digite o convite: tem_convite\n",
            "entrada permitida:  True\n"
          ]
        }
      ]
    }
  ]
}