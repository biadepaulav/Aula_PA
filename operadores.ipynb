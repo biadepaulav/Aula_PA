{
  "nbformat": 4,
  "nbformat_minor": 0,
  "metadata": {
    "colab": {
      "provenance": [],
      "authorship_tag": "ABX9TyPwKg0YB6RWjjq0yFRG6sXP",
      "include_colab_link": true
    },
    "kernelspec": {
      "name": "python3",
      "display_name": "Python 3"
    },
    "language_info": {
      "name": "python"
    }
  },
  "cells": [
    {
      "cell_type": "markdown",
      "metadata": {
        "id": "view-in-github",
        "colab_type": "text"
      },
      "source": [
        "<a href=\"https://colab.research.google.com/github/biadepaulav/Aula_PA/blob/main/operadores.ipynb\" target=\"_parent\"><img src=\"https://colab.research.google.com/assets/colab-badge.svg\" alt=\"Open In Colab\"/></a>"
      ]
    },
    {
      "cell_type": "code",
      "source": [
        "comparação de idades"
      ],
      "metadata": {
        "id": "20rWeBeBtUoJ"
      },
      "execution_count": null,
      "outputs": []
    },
    {
      "cell_type": "markdown",
      "source": [],
      "metadata": {
        "id": "g-cc_09ktTRM"
      }
    },
    {
      "cell_type": "code",
      "execution_count": 3,
      "metadata": {
        "colab": {
          "base_uri": "https://localhost:8080/"
        },
        "id": "Xxjzk9eBquRL",
        "outputId": "a685f0c4-6cad-4210-88db-af53dabb7f49"
      },
      "outputs": [
        {
          "output_type": "stream",
          "name": "stdout",
          "text": [
            "digite a primeira idade: 12\n",
            "digite a segunda idade: 15\n",
            "a primeira idade é menor que a segunda:  False\n"
          ]
        }
      ],
      "source": [
        "#entrada\n",
        "idade1=float(input('digite a primeira idade: '))\n",
        "idade2=float(input('digite a segunda idade: '))\n",
        "\n",
        "#processamento\n",
        "idades=(idade1>idade2)\n",
        "\n",
        "#saida\n",
        "print('a primeira idade é menor que a segunda: ',idades)\n"
      ]
    },
    {
      "cell_type": "markdown",
      "source": [
        "acesso verificado"
      ],
      "metadata": {
        "id": "zH2b0SSOtamY"
      }
    },
    {
      "cell_type": "code",
      "source": [
        "#entrada\n",
        "idade=float(input('digite a idade: '))\n",
        "senha=float(input('digite a senha: '))\n",
        "#processamento\n",
        "idade18=(idade>18)\n",
        "senha1=(senha==1234)\n",
        "#saida\n",
        "print('idade correta: ',idade18)\n",
        "print('senha correta: ', senha1)\n"
      ],
      "metadata": {
        "colab": {
          "base_uri": "https://localhost:8080/"
        },
        "id": "64RDTs5utgGb",
        "outputId": "991b84ed-38e3-4f2b-c530-195d82b96caf"
      },
      "execution_count": 5,
      "outputs": [
        {
          "output_type": "stream",
          "name": "stdout",
          "text": [
            "digite a idade: 19\n",
            "digite a senha: 1234\n",
            "idade correta:  True\n",
            "senha correta:  True\n"
          ]
        }
      ]
    },
    {
      "cell_type": "markdown",
      "source": [
        "numero 10 a 50"
      ],
      "metadata": {
        "id": "e13217opvIsa"
      }
    },
    {
      "cell_type": "code",
      "source": [
        "#entrada\n",
        "numero=float(input('digite um número: '))\n",
        "\n",
        "#processamento\n",
        "numero1050=(numero<50 and numero>10)\n",
        "\n",
        "#saida\n",
        "print('o numero esta entre 10 e 50: ', numero1050)"
      ],
      "metadata": {
        "colab": {
          "base_uri": "https://localhost:8080/"
        },
        "id": "NYg6kiZUvONV",
        "outputId": "e491aea2-c551-4383-900f-26855e5074f5"
      },
      "execution_count": 7,
      "outputs": [
        {
          "output_type": "stream",
          "name": "stdout",
          "text": [
            "digite um número: 2\n",
            "o numero esta entre 10 e 50:  False\n"
          ]
        }
      ]
    },
    {
      "cell_type": "markdown",
      "source": [
        "compra aprovada"
      ],
      "metadata": {
        "id": "HX5i6z4cwVPR"
      }
    }
  ]
}