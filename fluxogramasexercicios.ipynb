{
  "nbformat": 4,
  "nbformat_minor": 0,
  "metadata": {
    "colab": {
      "provenance": [],
      "authorship_tag": "ABX9TyP8nGt7pyaj5hqC01V6ZbVK",
      "include_colab_link": true
    },
    "kernelspec": {
      "name": "python3",
      "display_name": "Python 3"
    },
    "language_info": {
      "name": "python"
    }
  },
  "cells": [
    {
      "cell_type": "markdown",
      "metadata": {
        "id": "view-in-github",
        "colab_type": "text"
      },
      "source": [
        "<a href=\"https://colab.research.google.com/github/biadepaulav/Aula_PA/blob/main/fluxogramasexercicios.ipynb\" target=\"_parent\"><img src=\"https://colab.research.google.com/assets/colab-badge.svg\" alt=\"Open In Colab\"/></a>"
      ]
    },
    {
      "cell_type": "markdown",
      "source": [
        "custo de carro para consumidor"
      ],
      "metadata": {
        "id": "zXjX_mmhtn47"
      }
    },
    {
      "cell_type": "code",
      "source": [
        "##entrada\n",
        "valorcarro= float(input('digite o custocarro: '))\n",
        "\n",
        "##processamento\n",
        "impostotrib = valorcarro * 45/100\n",
        "impostodist = impostotrib + valorcarro*28/100\n",
        "valorconsumidor = impostodist + impostotrib + valorcarro\n",
        "\n",
        "##saida\n",
        "print(\"o custo para o consumidor é:\" , valorconsumidor)"
      ],
      "metadata": {
        "colab": {
          "base_uri": "https://localhost:8080/"
        },
        "id": "iNQ6uM6TtzfP",
        "outputId": "7f43713c-91ee-46a0-d3e6-18f440965470"
      },
      "execution_count": 4,
      "outputs": [
        {
          "output_type": "stream",
          "name": "stdout",
          "text": [
            "digite o custocarro: 9000\n",
            "o custo para o consumidor é: 19620.0\n"
          ]
        }
      ]
    },
    {
      "cell_type": "markdown",
      "source": [
        "horas e minutos para segundos"
      ],
      "metadata": {
        "id": "1iN1m5MG1lpi"
      }
    },
    {
      "cell_type": "code",
      "source": [
        "##entrada\n",
        "hora= float(input('digite a hora:'))\n",
        "minuto=float(input('digite o minuto'))\n",
        "\n",
        "##processamento\n",
        "minutodecimal= minuto/60\n",
        "horadecimal= hora + minutodecimal\n",
        "##saida\n",
        "print(f'{hora} hora e  {minuto} minuto em segundos são:', horadecimal)"
      ],
      "metadata": {
        "colab": {
          "base_uri": "https://localhost:8080/"
        },
        "id": "V1lmNmQ-0QmH",
        "outputId": "a29340a9-89eb-4fb8-f180-0a6f4b539301"
      },
      "execution_count": 5,
      "outputs": [
        {
          "output_type": "stream",
          "name": "stdout",
          "text": [
            "digite a hora:4\n",
            "digite o minuto23\n",
            "4.0 hora e  23.0 minuto em segundos são: 4.383333333333334\n"
          ]
        }
      ]
    },
    {
      "cell_type": "markdown",
      "source": [
        "hora extra"
      ],
      "metadata": {
        "id": "O93PT4zf0xu1"
      }
    },
    {
      "cell_type": "code",
      "source": [
        "##entrada\n",
        "hora=float(input('digite a hora: '))\n",
        "minuto=float(input('digite o minuto: '))\n",
        "valorhora=float(input('digite o valor da hora: '))\n",
        "\n",
        "##processamento\n",
        "minutodecimal= minuto/60\n",
        "horadecimal= hora+minutodecimal\n",
        "salario= (horadecimal*valorhora)\n",
        "valorfinal= (salario*70/100)+salario\n",
        "\n",
        "##saida\n",
        "print(f'o salario com adição da hora extra é de: ', valorfinal)"
      ],
      "metadata": {
        "colab": {
          "base_uri": "https://localhost:8080/"
        },
        "id": "XE1BYGa_4_6E",
        "outputId": "e461ca51-42aa-4b3d-af99-90b955d05962"
      },
      "execution_count": 8,
      "outputs": [
        {
          "output_type": "stream",
          "name": "stdout",
          "text": [
            "digite a hora: 6\n",
            "digite o minuto: 0\n",
            "digite o valor da hora: 100\n",
            "o salario com adição da hora extra é de:  1020.0\n"
          ]
        }
      ]
    }
  ]
}