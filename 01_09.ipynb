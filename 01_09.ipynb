{
  "nbformat": 4,
  "nbformat_minor": 0,
  "metadata": {
    "colab": {
      "provenance": [],
      "authorship_tag": "ABX9TyM7DBxtFNxwqXjMfmicPasO",
      "include_colab_link": true
    },
    "kernelspec": {
      "name": "python3",
      "display_name": "Python 3"
    },
    "language_info": {
      "name": "python"
    }
  },
  "cells": [
    {
      "cell_type": "markdown",
      "metadata": {
        "id": "view-in-github",
        "colab_type": "text"
      },
      "source": [
        "<a href=\"https://colab.research.google.com/github/biadepaulav/Aula_PA/blob/main/01_09.ipynb\" target=\"_parent\"><img src=\"https://colab.research.google.com/assets/colab-badge.svg\" alt=\"Open In Colab\"/></a>"
      ]
    },
    {
      "cell_type": "markdown",
      "source": [
        "Treino para avaliação\n",
        "\n",
        "---\n",
        "\n",
        "\n",
        "1- numeros pares e impares em uma lista:\n",
        "* o usuario digita uma sequencia de numeros separados por espaços\n",
        "* o programa tranforma em lista de inteiros\n",
        "* usando for, deve contar quantos são pares e quantos sao impares"
      ],
      "metadata": {
        "id": "S0YiXxMqtYgV"
      }
    },
    {
      "cell_type": "code",
      "execution_count": 2,
      "metadata": {
        "colab": {
          "base_uri": "https://localhost:8080/",
          "height": 106
        },
        "id": "zAI1IaLetQrH",
        "outputId": "33507881-d16a-43f6-f740-368120457a50"
      },
      "outputs": [
        {
          "output_type": "error",
          "ename": "SyntaxError",
          "evalue": "cannot assign to expression (ipython-input-4247559147.py, line 4)",
          "traceback": [
            "\u001b[0;36m  File \u001b[0;32m\"/tmp/ipython-input-4247559147.py\"\u001b[0;36m, line \u001b[0;32m4\u001b[0m\n\u001b[0;31m    parouimpar= numeros%2=0\u001b[0m\n\u001b[0m                ^\u001b[0m\n\u001b[0;31mSyntaxError\u001b[0m\u001b[0;31m:\u001b[0m cannot assign to expression\n"
          ]
        }
      ],
      "source": [
        "#entrada\n",
        "numeros=input(\"digite uma sequencia de numeros separados por espacos\")\n",
        "#processamento\n",
        "parouimpar= numeros%2=0"
      ]
    },
    {
      "cell_type": "markdown",
      "source": [
        "2- adivinhar um numero secreto\n",
        "* o programa escolhe um numero secreto (ex: 1 a 20)\n",
        "* o usuario tenta adivinhar\n",
        "* enquanto não acertar, o programa da dicas ('maior' ou 'menor')\n",
        "* quando acertar, o loop acaba\n",
        "dica para numero aleatorio\n",
        "\n",
        "---\n",
        "\n",
        "\n",
        "* import random\n",
        "* secreto=random.randint(1,20)\n",
        "* tentativa=none"
      ],
      "metadata": {
        "id": "u2JWMkDLvTkG"
      }
    },
    {
      "cell_type": "code",
      "source": [],
      "metadata": {
        "id": "t_U_17uCxQhW"
      },
      "execution_count": 3,
      "outputs": []
    },
    {
      "cell_type": "code",
      "source": [
        "import random\n",
        "secreto=random.randint(1,20)\n",
        "tentativa=None\n",
        "\n",
        "numero=input('digite um numereo de 1 a 20: ')\n",
        "numero=int(numero)\n",
        "while numero!=secreto:\n",
        "  print('voce errou')\n",
        "  if numero > secreto:\n",
        "    print('voce errou menor')\n",
        "  elif numero < secreto:\n",
        "    print('voce errou maior')\n",
        "  numero=int(input('digite um numereo de 1 a 20: '))\n",
        "if numero==secreto:\n",
        " print('voce acertou')"
      ],
      "metadata": {
        "colab": {
          "base_uri": "https://localhost:8080/"
        },
        "id": "WyH63pYSyvCg",
        "outputId": "f6341db4-49a4-4617-a8dc-dba6fd8c8ead"
      },
      "execution_count": 18,
      "outputs": [
        {
          "output_type": "stream",
          "name": "stdout",
          "text": [
            "digite um numereo de 1 a 20: 12\n",
            "voce acertou\n"
          ]
        }
      ]
    }
  ]
}