{
  "nbformat": 4,
  "nbformat_minor": 0,
  "metadata": {
    "colab": {
      "provenance": [],
      "authorship_tag": "ABX9TyMp1tdCIRND/Kw65WXmp3Dt",
      "include_colab_link": true
    },
    "kernelspec": {
      "name": "python3",
      "display_name": "Python 3"
    },
    "language_info": {
      "name": "python"
    }
  },
  "cells": [
    {
      "cell_type": "markdown",
      "metadata": {
        "id": "view-in-github",
        "colab_type": "text"
      },
      "source": [
        "<a href=\"https://colab.research.google.com/github/biadepaulav/Aula_PA/blob/main/aulapa1c/variaveis_e_operadores.ipynb\" target=\"_parent\"><img src=\"https://colab.research.google.com/assets/colab-badge.svg\" alt=\"Open In Colab\"/></a>"
      ]
    },
    {
      "cell_type": "code",
      "execution_count": null,
      "metadata": {
        "colab": {
          "base_uri": "https://localhost:8080/"
        },
        "id": "VMvqRIQqVRw6",
        "outputId": "60fbcca8-ceb1-497e-ac1e-d8ce582a53e3"
      },
      "outputs": [
        {
          "output_type": "stream",
          "name": "stdout",
          "text": [
            "digite p1: 7\n",
            "digite p2: 9\n",
            "a média é: 8.0\n"
          ]
        }
      ],
      "source": [
        "#entrada\n",
        "p1= float(input('digite p1: '))\n",
        "p2= float(input('digite p2: '))\n",
        "\n",
        "#processamento\n",
        "média=(p1+p2)/2\n",
        "\n",
        "#saída\n",
        "print('a média é:', média)"
      ]
    },
    {
      "cell_type": "markdown",
      "source": [
        "conversão de celsios para fahrenheit"
      ],
      "metadata": {
        "id": "M8ufS0AQdwhH"
      }
    },
    {
      "cell_type": "code",
      "source": [
        "#entrada\n",
        "c= float(input('digite c: '))\n",
        "\n",
        "#processamento\n",
        "f= (c * 9/5)+32\n",
        "\n",
        "#saída\n",
        "print('a conversãode c para f é:', f)"
      ],
      "metadata": {
        "id": "YMeg9WxBat5L",
        "colab": {
          "base_uri": "https://localhost:8080/"
        },
        "outputId": "8c60727c-c6d9-4abd-a6b3-7c0766cbe51b"
      },
      "execution_count": 8,
      "outputs": [
        {
          "output_type": "stream",
          "name": "stdout",
          "text": [
            "digite c: 9\n",
            "a conversãode c para f é: 48.2\n"
          ]
        }
      ]
    },
    {
      "cell_type": "code",
      "source": [],
      "metadata": {
        "id": "FKdSq5pgdvcm"
      },
      "execution_count": null,
      "outputs": []
    },
    {
      "cell_type": "markdown",
      "source": [
        "conversão de  fahrenheit para celsios"
      ],
      "metadata": {
        "id": "fE6VbIQZd8ZF"
      }
    },
    {
      "cell_type": "code",
      "source": [
        "#entrada\n",
        "f=float(input('digite f: '))\n",
        "\n",
        "#processamento\n",
        "c= ( f - 32) * (5/9)\n",
        "\n",
        "#saída\n",
        "print('a conversão de f para c é:' , c)"
      ],
      "metadata": {
        "colab": {
          "base_uri": "https://localhost:8080/"
        },
        "id": "SvtGjN6ZeC77",
        "outputId": "86343f3f-fb1e-4ae3-f47c-113c6fa1f49d"
      },
      "execution_count": 20,
      "outputs": [
        {
          "output_type": "stream",
          "name": "stdout",
          "text": [
            "digite f: 90\n",
            "a conversão de f para c é: 32.22222222222222\n"
          ]
        }
      ]
    },
    {
      "cell_type": "code",
      "source": [
        "#entrada\n",
        "valor=float(input('digite valor '))\n",
        "qtde=float(input('digite qtde '))\n",
        "\n",
        "#processamento\n",
        "vt=(valor*qtde)\n",
        "\n",
        "#saída\n",
        "print('o valor total é:', vt)"
      ],
      "metadata": {
        "colab": {
          "base_uri": "https://localhost:8080/"
        },
        "id": "t17VDUJJj1qR",
        "outputId": "783fadfb-2328-4dd2-f25b-da469ca36d4a"
      },
      "execution_count": 23,
      "outputs": [
        {
          "output_type": "stream",
          "name": "stdout",
          "text": [
            "digite valor 9\n",
            "digite qtde 8\n",
            "o valor total é: 72.0\n"
          ]
        }
      ]
    }
  ]
}