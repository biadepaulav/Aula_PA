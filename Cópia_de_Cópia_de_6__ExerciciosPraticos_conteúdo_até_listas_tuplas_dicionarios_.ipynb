{
  "nbformat": 4,
  "nbformat_minor": 0,
  "metadata": {
    "kernelspec": {
      "display_name": "Python 3",
      "language": "python",
      "name": "python3"
    },
    "language_info": {
      "codemirror_mode": {
        "name": "ipython",
        "version": 3
      },
      "file_extension": ".py",
      "mimetype": "text/x-python",
      "name": "python",
      "nbconvert_exporter": "python",
      "pygments_lexer": "ipython3",
      "version": "3.8.8"
    },
    "colab": {
      "provenance": [],
      "include_colab_link": true
    }
  },
  "cells": [
    {
      "cell_type": "markdown",
      "metadata": {
        "id": "view-in-github",
        "colab_type": "text"
      },
      "source": [
        "<a href=\"https://colab.research.google.com/github/biadepaulav/Aula_PA/blob/main/C%C3%B3pia_de_C%C3%B3pia_de_6__ExerciciosPraticos_conte%C3%BAdo_at%C3%A9_listas_tuplas_dicionarios_.ipynb\" target=\"_parent\"><img src=\"https://colab.research.google.com/assets/colab-badge.svg\" alt=\"Open In Colab\"/></a>"
      ]
    },
    {
      "cell_type": "markdown",
      "metadata": {
        "id": "otAALMRAgVFs"
      },
      "source": [
        "# Exercícios, insira os valores abaixo em variáveis.\n",
        "\n",
        "Nome: Beatriz de Paula Vaca\n",
        "\n",
        "Turma\n",
        "\n",
        "Curso que faz na ETEC: manha\n",
        "\n",
        "Período do Curso: manha\n",
        "\n"
      ]
    },
    {
      "cell_type": "markdown",
      "metadata": {
        "id": "mtO7KYI4gVGN"
      },
      "source": [
        "### Exercícios com todos os conteúdos aplicados até o momento."
      ]
    },
    {
      "cell_type": "code",
      "metadata": {
        "id": "sNDVkTvxqFeG"
      },
      "source": [
        "# Exercício 1 inserir os seus dados acima em variáveis\n",
        "#Exemplo\n",
        "nome = \"Beatriz de Paula\"\n",
        "Turma = \"manha\"\n"
      ],
      "execution_count": 2,
      "outputs": []
    },
    {
      "cell_type": "code",
      "metadata": {
        "id": "9ghrfEWJxiTC",
        "colab": {
          "base_uri": "https://localhost:8080/",
          "height": 0
        },
        "outputId": "522af0c1-691b-4671-a49a-569bff66ea45"
      },
      "source": [
        "# Exercício 2 -Apos inserir dados acima usando o slicing (exemplo no notebook de manipulação de Strings), imprima na tela apenas seu sobrenome\n",
        "print(nome)"
      ],
      "execution_count": 3,
      "outputs": [
        {
          "output_type": "stream",
          "name": "stdout",
          "text": [
            "Beatriz de Paula\n"
          ]
        }
      ]
    },
    {
      "cell_type": "code",
      "metadata": {
        "id": "pw8rY0r9yU9P"
      },
      "source": [
        "# Exercício 3 -  imprima seu nome de trás pra frente"
      ],
      "execution_count": null,
      "outputs": []
    },
    {
      "cell_type": "code",
      "metadata": {
        "id": "Pa51fT2Pyd-P"
      },
      "source": [
        "# Exercício 4 - pegue a frase abaixo, aplique o split para fazer uma quebra toda vez que encontrar uma \",\"\n",
        "frase = \"Python é a linguagem ideal para o primeiro contato com programação, além da sua sintaxe simples e muito poderosa, Python tem diversas aplicações como: desenvolvimento web, análise de dados, inteligência artificial e automatização de tarefas, neste curso você aprenderá a lógica de programação para conquistar fluência na linguagem, a comunidade Python é a que mais cresce, assim como sua demanda de profissionais no mercado.\"\n"
      ],
      "execution_count": null,
      "outputs": []
    },
    {
      "cell_type": "code",
      "metadata": {
        "id": "3zXkJzvOgVGQ",
        "colab": {
          "base_uri": "https://localhost:8080/"
        },
        "outputId": "e691775d-81a3-4c14-96a0-a336c65b8f2b"
      },
      "source": [
        "# Exercício 5 -Imprima na tela os números de 1 a 10. Use uma lista para armazenar os números.\n",
        "lista=[1,2,3,4,5,6,7,8,9,10]\n",
        "print(lista)"
      ],
      "execution_count": 22,
      "outputs": [
        {
          "output_type": "stream",
          "name": "stdout",
          "text": [
            "[1, 2, 3, 4, 5, 6, 7, 8, 9, 10]\n"
          ]
        }
      ]
    },
    {
      "cell_type": "code",
      "metadata": {
        "id": "sLiKO51ogVGU",
        "colab": {
          "base_uri": "https://localhost:8080/"
        },
        "outputId": "1346ab1e-a919-4c57-eb7f-ad20980428dc"
      },
      "source": [
        "# Exercício 6 - Crie uma lista de 5 objetos e imprima na tela\n",
        "lista=[\"cadeira\",\"mesa\",\"chapeu\",\"computador\",\"leque\"]\n",
        "print(lista)"
      ],
      "execution_count": 26,
      "outputs": [
        {
          "output_type": "stream",
          "name": "stdout",
          "text": [
            "['cadeira', 'mesa', 'chapeu', 'computador', 'leque']\n"
          ]
        }
      ]
    },
    {
      "cell_type": "code",
      "metadata": {
        "id": "4Udf3Y1SgVGW"
      },
      "source": [
        "# Exercício 7 - - Crie duas strings e concatene as duas em uma terceira string"
      ],
      "execution_count": null,
      "outputs": []
    },
    {
      "cell_type": "code",
      "metadata": {
        "id": "eibOlpxBgVGZ"
      },
      "source": [
        "# Exercício 8 - Crie uma tupla com os seguintes elementos: 1, 2, 2, 3, 4, 4, 4, 5 e depois utilize a função count do\n",
        "# objeto tupla para verificar quantas vezes o número 4 aparece na tupla"
      ],
      "execution_count": null,
      "outputs": []
    },
    {
      "cell_type": "code",
      "metadata": {
        "id": "N68z5JS9gVGe"
      },
      "source": [
        "# Exercício 9 - Crie um dicionário vazio e imprima na tela"
      ],
      "execution_count": null,
      "outputs": []
    },
    {
      "cell_type": "code",
      "metadata": {
        "id": "BNR0-SW-gVGg",
        "colab": {
          "base_uri": "https://localhost:8080/",
          "height": 176
        },
        "outputId": "7dcea446-6608-4971-e559-f3a22f0c570c"
      },
      "source": [
        "# Exercício 10 - Crie um dicionário com 3 chaves e 3 valores e imprima na tela\n",
        "dicionario={palavra1:valor1,palavra2:valor2,palavra3:valor3}\n",
        "print(dicionario)"
      ],
      "execution_count": 27,
      "outputs": [
        {
          "output_type": "error",
          "ename": "NameError",
          "evalue": "name 'palavra1' is not defined",
          "traceback": [
            "\u001b[0;31m---------------------------------------------------------------------------\u001b[0m",
            "\u001b[0;31mNameError\u001b[0m                                 Traceback (most recent call last)",
            "\u001b[0;32m/tmp/ipython-input-1435239290.py\u001b[0m in \u001b[0;36m<cell line: 0>\u001b[0;34m()\u001b[0m\n\u001b[1;32m      1\u001b[0m \u001b[0;31m# Exercício 10 - Crie um dicionário com 3 chaves e 3 valores e imprima na tela\u001b[0m\u001b[0;34m\u001b[0m\u001b[0;34m\u001b[0m\u001b[0m\n\u001b[0;32m----> 2\u001b[0;31m \u001b[0mdicionario\u001b[0m\u001b[0;34m=\u001b[0m\u001b[0;34m{\u001b[0m\u001b[0mpalavra1\u001b[0m\u001b[0;34m:\u001b[0m\u001b[0mvalor1\u001b[0m\u001b[0;34m,\u001b[0m\u001b[0mpalavra2\u001b[0m\u001b[0;34m:\u001b[0m\u001b[0mvalor2\u001b[0m\u001b[0;34m,\u001b[0m\u001b[0mpalavra3\u001b[0m\u001b[0;34m:\u001b[0m\u001b[0mvalor3\u001b[0m\u001b[0;34m}\u001b[0m\u001b[0;34m\u001b[0m\u001b[0;34m\u001b[0m\u001b[0m\n\u001b[0m\u001b[1;32m      3\u001b[0m \u001b[0mprint\u001b[0m\u001b[0;34m(\u001b[0m\u001b[0mdicionario\u001b[0m\u001b[0;34m)\u001b[0m\u001b[0;34m\u001b[0m\u001b[0;34m\u001b[0m\u001b[0m\n",
            "\u001b[0;31mNameError\u001b[0m: name 'palavra1' is not defined"
          ]
        }
      ]
    },
    {
      "cell_type": "code",
      "metadata": {
        "id": "gXIHe2YegVGj"
      },
      "source": [
        "# Exercício 11 - Adicione mais um elemento ao dicionário criado no exercício anterior e imprima na tela"
      ],
      "execution_count": null,
      "outputs": []
    },
    {
      "cell_type": "code",
      "metadata": {
        "id": "4BgEJNIegVGn"
      },
      "source": [
        "# Exercício 12 - Crie um dicionário com 3 chaves e 3 valores. Um dos valores deve ser uma lista de 2 elementos numéricos.\n",
        "# Imprima o dicionário na tela."
      ],
      "execution_count": null,
      "outputs": []
    },
    {
      "cell_type": "code",
      "metadata": {
        "id": "5z1toDrtgVGp"
      },
      "source": [
        "# Exercício 13 - Crie uma lista de 4 elementos. O primeiro elemento deve ser uma string,\n",
        "# o segundo uma tupla de 2 elementos, o terceiro um dcionário com 2 chaves e 2 valores e\n",
        "# o quarto elemento um valor do tipo float.\n",
        "# Imprima a lista na tela."
      ],
      "execution_count": null,
      "outputs": []
    },
    {
      "cell_type": "code",
      "metadata": {
        "id": "OH0hchIXgVGw",
        "colab": {
          "base_uri": "https://localhost:8080/"
        },
        "outputId": "c877136f-ff2d-4a21-a865-8808e14c5acd"
      },
      "source": [
        "# Exercício 14 - Considere a string abaixo. Imprima na tela apenas os caracteres da posição 1 a 18.\n",
        "frase = 'Cientista de Dados é o profissional mais legal do século XXI'\n",
        "x=frase[0:18]\n",
        "print(x)"
      ],
      "execution_count": 28,
      "outputs": [
        {
          "output_type": "stream",
          "name": "stdout",
          "text": [
            "Cientista de Dados\n"
          ]
        }
      ]
    },
    {
      "cell_type": "markdown",
      "source": [
        "# Exercícios de Manipulação de Strings"
      ],
      "metadata": {
        "id": "92MnBEkZ-rYd"
      }
    },
    {
      "cell_type": "code",
      "source": [
        "# 1 - Use o método len para imprimir o comprimento da string.\n",
        "x = \"Hello World\"\n",
        "print(x)"
      ],
      "metadata": {
        "id": "JA7plTFi-vgW",
        "colab": {
          "base_uri": "https://localhost:8080/",
          "height": 0
        },
        "outputId": "6eaf328f-7b39-44b2-d84c-ec4d8c134f79"
      },
      "execution_count": 9,
      "outputs": [
        {
          "output_type": "stream",
          "name": "stdout",
          "text": [
            "Hello World\n"
          ]
        }
      ]
    },
    {
      "cell_type": "code",
      "source": [
        "# 2 - Obtenha o primeiro caractere da string txt.\n",
        "txt = \"Hello World\"\n",
        "x=txt[0]\n",
        "print(x)"
      ],
      "metadata": {
        "id": "20q8uL0H-2DO",
        "colab": {
          "base_uri": "https://localhost:8080/",
          "height": 0
        },
        "outputId": "3b73c5e8-2583-479f-d52f-637ac042e95c"
      },
      "execution_count": 14,
      "outputs": [
        {
          "output_type": "stream",
          "name": "stdout",
          "text": [
            "H\n"
          ]
        }
      ]
    },
    {
      "cell_type": "code",
      "source": [
        "# 3 - Obtenha os caracteres do índice 2 ao índice 4 ( llo).\n",
        "txt = \"Hello World\"\n",
        "x=txt[2:5]\n",
        "print(x)"
      ],
      "metadata": {
        "id": "xIDhwW91-3tu",
        "colab": {
          "base_uri": "https://localhost:8080/"
        },
        "outputId": "46fa126a-08e3-495d-cac9-4ea67b8d0ed5"
      },
      "execution_count": 17,
      "outputs": [
        {
          "output_type": "stream",
          "name": "stdout",
          "text": [
            "llo\n"
          ]
        }
      ]
    },
    {
      "cell_type": "code",
      "source": [
        "# 4 - Converta o valor de txt para maiúsculas.\n",
        "txt = \"Hello World\"\n",
        "txt = (txt.upper())\n",
        "print(txt)"
      ],
      "metadata": {
        "id": "ytTRVai1-5Zc",
        "colab": {
          "base_uri": "https://localhost:8080/"
        },
        "outputId": "d506e884-fabb-48e6-8f47-76bac008e398"
      },
      "execution_count": 19,
      "outputs": [
        {
          "output_type": "stream",
          "name": "stdout",
          "text": [
            "HELLO WORLD\n"
          ]
        }
      ]
    },
    {
      "cell_type": "code",
      "source": [
        "# - Conte quantas vezes aparece a palavra \"de\" na string abaixo\n",
        "txt = \"Eu gosto de vijar, tomar vinho, de estudar estudar programação, de estudar Pyhon\"\n",
        "txt.count('de')"
      ],
      "metadata": {
        "id": "efIxsQhs-7Tf",
        "colab": {
          "base_uri": "https://localhost:8080/",
          "height": 0
        },
        "outputId": "1fc76ca6-e155-41c3-efb4-d20b9b239bdf"
      },
      "execution_count": 8,
      "outputs": [
        {
          "output_type": "execute_result",
          "data": {
            "text/plain": [
              "3"
            ]
          },
          "metadata": {},
          "execution_count": 8
        }
      ]
    },
    {
      "cell_type": "code",
      "source": [
        "# - Separe a frase abaixo toda vez que encontrar um vírgula\n",
        "txt = \"Eu gosto de vijar, tomar vinho, de estudar estudar programação, de estudar Pyhon\"\n",
        "txt.split(',')"
      ],
      "metadata": {
        "id": "WVS0gAS9-9CM",
        "colab": {
          "base_uri": "https://localhost:8080/"
        },
        "outputId": "9a3189ab-0d01-4189-d0ef-8ff62261557a"
      },
      "execution_count": 20,
      "outputs": [
        {
          "output_type": "execute_result",
          "data": {
            "text/plain": [
              "['Eu gosto de vijar',\n",
              " ' tomar vinho',\n",
              " ' de estudar estudar programação',\n",
              " ' de estudar Pyhon']"
            ]
          },
          "metadata": {},
          "execution_count": 20
        }
      ]
    }
  ]
}