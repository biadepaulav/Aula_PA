{
  "nbformat": 4,
  "nbformat_minor": 0,
  "metadata": {
    "colab": {
      "provenance": [],
      "authorship_tag": "ABX9TyPPJ00i2phkPgIa2QkfIUSA",
      "include_colab_link": true
    },
    "kernelspec": {
      "name": "python3",
      "display_name": "Python 3"
    },
    "language_info": {
      "name": "python"
    }
  },
  "cells": [
    {
      "cell_type": "markdown",
      "metadata": {
        "id": "view-in-github",
        "colab_type": "text"
      },
      "source": [
        "<a href=\"https://colab.research.google.com/github/biadepaulav/Aula_PA/blob/main/if1905.ipynb\" target=\"_parent\"><img src=\"https://colab.research.google.com/assets/colab-badge.svg\" alt=\"Open In Colab\"/></a>"
      ]
    },
    {
      "cell_type": "markdown",
      "source": [
        "19/05"
      ],
      "metadata": {
        "id": "ySrNSzrG2OIp"
      }
    },
    {
      "cell_type": "markdown",
      "source": [
        "1 caixa eletrônico"
      ],
      "metadata": {
        "id": "sOdqzVxa2Sl9"
      }
    },
    {
      "cell_type": "code",
      "execution_count": 12,
      "metadata": {
        "colab": {
          "base_uri": "https://localhost:8080/"
        },
        "id": "20srOdey2K6H",
        "outputId": "b0ac522c-80d9-485a-9d31-5c9f8f47c3af"
      },
      "outputs": [
        {
          "output_type": "stream",
          "name": "stdout",
          "text": [
            "digite seu nome: cliente\n",
            "digite a senha: 1234\n",
            "bem vindo\n"
          ]
        }
      ],
      "source": [
        "#entrada\n",
        "nome=(input('digite seu nome: '))\n",
        "senha=(input('digite a senha: '))\n",
        "\n",
        "#processamento\n",
        "if nome=='cliente' and senha=='1234':\n",
        " print('bem vindo')\n",
        "else:\n",
        " print('usuário ou senha incorretos')\n"
      ]
    },
    {
      "cell_type": "markdown",
      "source": [
        "2 saque e depósito"
      ],
      "metadata": {
        "id": "tcGjPIPa2M3G"
      }
    },
    {
      "cell_type": "code",
      "source": [
        "#entrada\n",
        "#processamento"
      ],
      "metadata": {
        "id": "1MEnFqx3-MlB"
      },
      "execution_count": null,
      "outputs": []
    },
    {
      "cell_type": "markdown",
      "source": [
        "3 competição"
      ],
      "metadata": {
        "id": "YC2tE3kS-NHR"
      }
    },
    {
      "cell_type": "code",
      "source": [
        "#entrada\n",
        "altura=float(input('digite a altura'))\n",
        "idade=int(input('digite a idade'))\n",
        "#processamento\n",
        "if altura>=1.75 and idade>=18:\n",
        "  print('pode competir')\n",
        "else:\n",
        "  print('não pode competir')"
      ],
      "metadata": {
        "colab": {
          "base_uri": "https://localhost:8080/"
        },
        "id": "xBd1xivT-Zkx",
        "outputId": "5333b740-462b-4789-d7c8-fb94341fe6a6"
      },
      "execution_count": 13,
      "outputs": [
        {
          "output_type": "stream",
          "name": "stdout",
          "text": [
            "digite a altura1.80\n",
            "digite a idade19\n",
            "pode competir\n"
          ]
        }
      ]
    },
    {
      "cell_type": "markdown",
      "source": [
        "4 categoria peso boxe"
      ],
      "metadata": {
        "id": "K4x3tG_Z_mf9"
      }
    },
    {
      "cell_type": "code",
      "source": [
        "#entrada\n",
        "peso=float(imput('digiteo seu peso: '))\n",
        "\n",
        "#processamento\n"
      ],
      "metadata": {
        "id": "jb_nOUKr_mFq"
      },
      "execution_count": null,
      "outputs": []
    },
    {
      "cell_type": "markdown",
      "source": [
        "5 salário imposto de renda"
      ],
      "metadata": {
        "id": "E2h5I8LxASYu"
      }
    },
    {
      "cell_type": "code",
      "source": [
        "#entrada\n",
        "salario=float(input('digite o salário: '))\n",
        "#processamento\n"
      ],
      "metadata": {
        "id": "Hh9Cis3lASBD"
      },
      "execution_count": null,
      "outputs": []
    },
    {
      "cell_type": "markdown",
      "source": [
        "6 salário"
      ],
      "metadata": {
        "id": "ynzFaEKJGCA_"
      }
    },
    {
      "cell_type": "code",
      "source": [
        "#entrada\n",
        "salario=\n",
        "#processamento"
      ],
      "metadata": {
        "id": "za-TOCe_GBBU"
      },
      "execution_count": null,
      "outputs": []
    },
    {
      "cell_type": "markdown",
      "source": [
        "7 frete inteligente"
      ],
      "metadata": {
        "id": "KNu9YUMQGDl3"
      }
    },
    {
      "cell_type": "code",
      "source": [
        "#entrada\n",
        "peso=float(input('digite o peso do pacote: '))\n",
        "#processamento\n",
        "if"
      ],
      "metadata": {
        "id": "eH-FC5ctGJxw"
      },
      "execution_count": null,
      "outputs": []
    }
  ]
}