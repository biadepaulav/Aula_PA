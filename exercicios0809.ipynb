{
  "nbformat": 4,
  "nbformat_minor": 0,
  "metadata": {
    "colab": {
      "provenance": [],
      "include_colab_link": true
    },
    "kernelspec": {
      "name": "python3",
      "display_name": "Python 3"
    },
    "language_info": {
      "name": "python"
    }
  },
  "cells": [
    {
      "cell_type": "markdown",
      "metadata": {
        "id": "view-in-github",
        "colab_type": "text"
      },
      "source": [
        "<a href=\"https://colab.research.google.com/github/biadepaulav/Aula_PA/blob/main/exercicios0809.ipynb\" target=\"_parent\"><img src=\"https://colab.research.google.com/assets/colab-badge.svg\" alt=\"Open In Colab\"/></a>"
      ]
    },
    {
      "cell_type": "markdown",
      "source": [
        "Exercicios juntos_Laços,_condicionais,_listas,_tuplas_e_dicionários_"
      ],
      "metadata": {
        "id": "gGt_UwgWrgjT"
      }
    },
    {
      "cell_type": "markdown",
      "source": [
        "# Tuplas - Acesso e Desempacotamento\n",
        "\n",
        "1) Crie uma tupla contendo três tipos diferentes de dados: um número, uma string e uma lista. Use um laço de repetição para acessar e imprimir cada item da tupla. Além disso, dentro do laço, acesse e imprima o segundo item da lista que está dentro da tupla."
      ],
      "metadata": {
        "id": "HM91bKpkBqGI"
      }
    },
    {
      "cell_type": "code",
      "source": [
        "dados = (15, \"beatriz\",[1,2,3])\n",
        "\n",
        "for i in dados:\n",
        "  print(i)"
      ],
      "metadata": {
        "colab": {
          "base_uri": "https://localhost:8080/"
        },
        "id": "sCbCOqPVYeRv",
        "outputId": "5cb763ae-33b8-43db-e6b2-808570c0d505"
      },
      "execution_count": null,
      "outputs": [
        {
          "output_type": "stream",
          "name": "stdout",
          "text": [
            "15\n",
            "beatriz\n",
            "[1, 2, 3]\n"
          ]
        }
      ]
    },
    {
      "cell_type": "markdown",
      "source": [
        "# Dicionários - Criação e Acesso\n",
        "## Cadastro de Pessoas e Análise de Alturas\n",
        "2) Solicite ao usuário para inserir o nome e a altura de várias pessoas. Preencha um dicionário com essas informações e depois encontre e imprima o nome e a altura da pessoa mais alta e da mais baixa."
      ],
      "metadata": {
        "id": "6vEHxGtjBxMi"
      }
    },
    {
      "cell_type": "code",
      "source": [
        "alturas = {}\n",
        "\n",
        "while True:\n",
        "  nome = input(\"Digite o nome da pessoa para cadastro ou sair: \").lower()\n",
        "\n",
        "  if nome == \"sair\":\n",
        "    pessoamaisalta = max(alturas, key=alturas.get)\n",
        "    pessoamaisbaixa = min(alturas, key=alturas.get)\n",
        "    break\n",
        "  altura = float(input(f\"Digite a altura de {nome}: \"))\n",
        "\n",
        "  alturas[nome]= altura\n",
        "  print(alturas)\n",
        "\n",
        "print(f\"A pessoa mais alta é {pessoamaisalta} com altura de {alturas[pessoamaisalta]}\")\n",
        "print(f\"A pessoa mais baixa é {pessoamaisbaixa} com altura de {alturas[pessoamaisbaixa]}\")"
      ],
      "metadata": {
        "id": "MpJYauvTZR69",
        "colab": {
          "base_uri": "https://localhost:8080/"
        },
        "outputId": "329ffc2d-4f8a-4207-a483-187f3ad0426e"
      },
      "execution_count": null,
      "outputs": [
        {
          "output_type": "stream",
          "name": "stdout",
          "text": [
            "Digite o nome da pessoa para cadastro ou sair: beatriz\n",
            "Digite a altura de beatriz: 158\n",
            "{'beatriz': 158.0}\n",
            "Digite o nome da pessoa para cadastro ou sair: isabelly\n",
            "Digite a altura de isabelly: 162\n",
            "{'beatriz': 158.0, 'isabelly': 162.0}\n",
            "Digite o nome da pessoa para cadastro ou sair: vitoria\n",
            "Digite a altura de vitoria: 170\n",
            "{'beatriz': 158.0, 'isabelly': 162.0, 'vitoria': 170.0}\n",
            "Digite o nome da pessoa para cadastro ou sair: sair\n",
            "A pessoa mais alta é vitoria com altura de 170.0\n",
            "A pessoa mais baixa é beatriz com altura de 158.0\n"
          ]
        }
      ]
    },
    {
      "cell_type": "markdown",
      "source": [
        "# Lista, laços e Condicionais\n",
        "3) Descrição: Crie uma listacom cinco números inteiros. Use um laço de repetição e uma condicional para imprimir apenas os números que são múltiplos de 3."
      ],
      "metadata": {
        "id": "FytD4QZyELAt"
      }
    },
    {
      "cell_type": "code",
      "source": [
        "lista = [5,7,9,12,3]\n",
        "multiplo = []\n",
        "for i in lista:\n",
        "  if i % 3 == 0:\n",
        "    print(i)\n"
      ],
      "metadata": {
        "colab": {
          "base_uri": "https://localhost:8080/"
        },
        "id": "6RbMIEd6z4Y8",
        "outputId": "d859fc23-1a5a-45f3-9ab8-dae40df9ef46"
      },
      "execution_count": null,
      "outputs": [
        {
          "output_type": "stream",
          "name": "stdout",
          "text": [
            "9\n",
            "12\n",
            "3\n"
          ]
        }
      ]
    },
    {
      "cell_type": "markdown",
      "source": [
        "# Manipulação de Strings e Condicionais\n",
        "4) Descrição: Crie uma string com uma frase. Use uma condicional para verificar se a frase contém a palavra \"Python\". Se sim, substitua a palavra \"Python\" por \"programação\" e imprima a nova frase."
      ],
      "metadata": {
        "id": "hwn3Fz8aEYSH"
      }
    },
    {
      "cell_type": "code",
      "source": [
        "new = \"\"\n",
        "frase = \"eu faço python\"\n",
        "print(frase)\n",
        "# queb = frase.split()\n",
        "\n",
        "while True:\n",
        "  if \"python\" in frase:\n",
        "    frase = frase.replace(\"python\", \"programação\")\n",
        "    print(frase)\n",
        "    break"
      ],
      "metadata": {
        "colab": {
          "base_uri": "https://localhost:8080/"
        },
        "id": "STjX0IZXfg_X",
        "outputId": "00b7d640-1e07-4db4-e45a-22e5af237d92"
      },
      "execution_count": null,
      "outputs": [
        {
          "output_type": "stream",
          "name": "stdout",
          "text": [
            "eu faço python\n",
            "eu faço programação\n"
          ]
        }
      ]
    },
    {
      "cell_type": "markdown",
      "source": [
        "# Simulação de Alfândega com Cadastro Dinâmico de Itens usando dicionário\n",
        "5) Simule uma situação de alfândega onde o funcionário cadastra itens novos encontrados na mala de uma pessoa que veio de uma viagem internacional. Após o cadastro de todos os itens, o programa imprime uma nota com todos os itens e seus preços, calcula o valor total e, se o valor total ultrapassar 500 dólares, calcula o valor de 60% a ser pago."
      ],
      "metadata": {
        "id": "hPP-JNTxEwFT"
      }
    },
    {
      "cell_type": "code",
      "source": [
        "produtos = {}\n",
        "\n",
        "while True:\n",
        "  itens = input(\"digite o nome do produto ou digite sair para sair: \")\n",
        "  if itens == \"sair\":\n",
        "\n",
        "    break\n",
        "  valor = float(input(\"digite o preço do produto: \"))\n",
        "\n",
        "  produtos[itens] = valor\n",
        "\n",
        "print(produtos)\n",
        "total = sum(produtos.values())\n",
        "print(total)\n",
        "if total >500:\n",
        "  total = total+(0.6*total)\n",
        "print(total)"
      ],
      "metadata": {
        "colab": {
          "base_uri": "https://localhost:8080/"
        },
        "id": "CD6do_iwq-eM",
        "outputId": "271d3a61-6a13-402c-8daa-07e95ee8113b"
      },
      "execution_count": null,
      "outputs": [
        {
          "output_type": "stream",
          "name": "stdout",
          "text": [
            "digite o nome do produto ou digite sair para sair: maquiagem\n",
            "digite o preço do produto: 50\n",
            "digite o nome do produto ou digite sair para sair: celular\n",
            "digite o preço do produto: 50\n",
            "digite o nome do produto ou digite sair para sair: roupa\n",
            "digite o preço do produto: 50\n",
            "digite o nome do produto ou digite sair para sair: sair\n",
            "{'maquiagem': 50.0, 'celular': 50.0, 'roupa': 50.0}\n",
            "150.0\n",
            "150.0\n"
          ]
        }
      ]
    },
    {
      "cell_type": "markdown",
      "source": [
        "# Identificação de Palavras Negativas em um Texto\n",
        "6) Você vai criar um programa em Python para analisar um texto e identificar palavras que expressam pensamentos negativos. Para isso, você usará uma lista de palavras negativas fornecida e verificará quais dessas palavras estão presentes no texto fornecido pelo usuário. Exemplo de palavras negtivas, acrescente mais na lista: # Lista de palavras negativas palavras_negativas = ['triste', 'deprimido', 'ansioso', 'desapontado', 'frustrado']"
      ],
      "metadata": {
        "id": "OH8D047zVsp-"
      }
    },
    {
      "cell_type": "code",
      "source": [
        "negativas =  ['triste', 'deprimido', 'ansioso', 'desapontado', 'frustrado']\n",
        "frase = input(\"Digite sua frase: \") .lower()\n",
        "palavra_negativa = False\n",
        "\n",
        "for i in negativas:\n",
        "  if i in frase:\n",
        "    palavra_negativa = True\n",
        "    break\n",
        "\n",
        "if palavra_negativa == True:\n",
        "  print(\"Na sua frase tem palavras negativas\" , negativas)\n",
        "else:\n",
        "  print(\"Na sua frase não tem palavras negativas\")\n"
      ],
      "metadata": {
        "id": "xDSrYWf_Vr8G",
        "colab": {
          "base_uri": "https://localhost:8080/"
        },
        "outputId": "e49a1b74-eadf-4d7f-ad2a-fa0886440be5"
      },
      "execution_count": null,
      "outputs": [
        {
          "output_type": "stream",
          "name": "stdout",
          "text": [
            "Digite sua frase: oi tudo bem\n",
            "Na sua frase não tem palavras negativas\n"
          ]
        }
      ]
    }
  ]
}