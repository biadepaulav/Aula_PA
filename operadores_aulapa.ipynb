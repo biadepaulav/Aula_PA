{
  "nbformat": 4,
  "nbformat_minor": 0,
  "metadata": {
    "colab": {
      "provenance": [],
      "authorship_tag": "ABX9TyNgY2+mO0u9IsnHJTddoTQw",
      "include_colab_link": true
    },
    "kernelspec": {
      "name": "python3",
      "display_name": "Python 3"
    },
    "language_info": {
      "name": "python"
    }
  },
  "cells": [
    {
      "cell_type": "markdown",
      "metadata": {
        "id": "view-in-github",
        "colab_type": "text"
      },
      "source": [
        "<a href=\"https://colab.research.google.com/github/biadepaulav/Aula_PA/blob/main/operadores_aulapa.ipynb\" target=\"_parent\"><img src=\"https://colab.research.google.com/assets/colab-badge.svg\" alt=\"Open In Colab\"/></a>"
      ]
    },
    {
      "cell_type": "markdown",
      "source": [
        "Ímpar ou par"
      ],
      "metadata": {
        "id": "rjNl4BxVtD9O"
      }
    },
    {
      "cell_type": "code",
      "execution_count": 7,
      "metadata": {
        "colab": {
          "base_uri": "https://localhost:8080/"
        },
        "id": "ugiKSe9tp6PS",
        "outputId": "1133e351-6789-45f4-a5a1-eb4a7c609ada"
      },
      "outputs": [
        {
          "output_type": "stream",
          "name": "stdout",
          "text": [
            "digite um número para ver se ele é par ou ímpar 9\n",
            "o número é: False\n"
          ]
        }
      ],
      "source": [
        "#entrada\n",
        "valor=float(input('digite um número para ver se ele é par ou ímpar'))\n",
        "\n",
        "#processamento\n",
        "par =(valor%2 == 0)\n",
        "impar =(valor%2 == 1)\n",
        "\n",
        "#saida\n",
        "print('o número é:', par)"
      ]
    },
    {
      "cell_type": "markdown",
      "source": [
        "lados do triângulo"
      ],
      "metadata": {
        "id": "an0wbk2HuGZU"
      }
    },
    {
      "cell_type": "code",
      "source": [
        "#entrada\n",
        "l1=float(input('digite o valor de l1 '))\n",
        "l2=float(input('dite o valor de l2 '))\n",
        "l3=float(input('digite o valor de l3 '))\n",
        "\n",
        "#processamento\n",
        "triangulo = (l1+l2>l3 and l1+l3>l2 and l2+l3>l1)\n",
        "\n",
        "#saida\n",
        "print('o triangulo é: ', triangulo)"
      ],
      "metadata": {
        "colab": {
          "base_uri": "https://localhost:8080/"
        },
        "id": "Xtm_JuaMulnc",
        "outputId": "13500d76-3fdc-48cb-b1e3-7dd4fa882d45"
      },
      "execution_count": 11,
      "outputs": [
        {
          "output_type": "stream",
          "name": "stdout",
          "text": [
            "digite o valor de l1 5\n",
            "dite o valor de l2 5\n",
            "digite o valor de l3 5\n",
            "o triangulo é:  True\n"
          ]
        }
      ]
    },
    {
      "cell_type": "markdown",
      "source": [
        "tipo de triangulo"
      ],
      "metadata": {
        "id": "sSbl_79myv9t"
      }
    },
    {
      "cell_type": "code",
      "source": [
        "#entrada\n",
        "l1=float(input('digite o valor de l1'))\n",
        "l2=float(input('digite o valor de l2'))\n",
        "l3=float(input('digite o valor de l3'))\n",
        "\n",
        "#processamento\n",
        "equilatero = (l1==l2 and l1==l3)\n",
        "isoceles= (l1==l2 or l2==l3 or l1==l3)\n",
        "escaleno= (l1!=l2 and l1!=l3 and l2!=l3)\n",
        "\n",
        "#saida\n",
        "print('o tipo do triangulo é:  ', equilatero)\n",
        "print(' o tipo do triangulo é: ', isoceles)\n",
        "print('o tipo do triangulo é: ', escaleno)"
      ],
      "metadata": {
        "colab": {
          "base_uri": "https://localhost:8080/"
        },
        "id": "YU5j9lsQyzCk",
        "outputId": "097ac906-44c8-42a0-e641-ba4f112adb48"
      },
      "execution_count": 14,
      "outputs": [
        {
          "output_type": "stream",
          "name": "stdout",
          "text": [
            "digite o valor de l12\n",
            "digite o valor de l23\n",
            "digite o valor de l34\n",
            "o tipo do triangulo é:   False\n",
            " o tipo do triangulo é:  False\n",
            "o tipo do triangulo é:  True\n"
          ]
        }
      ]
    },
    {
      "cell_type": "markdown",
      "source": [
        "IMC"
      ],
      "metadata": {
        "id": "ItGr0AG12Dmr"
      }
    },
    {
      "cell_type": "code",
      "source": [
        "#entrada\n",
        "peso=float(input('digite o peso '))\n",
        "altura=float(input('digite a altura '))\n",
        "\n",
        "#processamento\n",
        "imc=(peso/(altura*altura))\n",
        "abaixo= (imc<18.5)\n",
        "normal= (imc>18.5 and imc<24.9)\n",
        "acima= (imc>25)\n",
        "\n",
        "#saida\n",
        "print('o imc é: ', imc)\n",
        "print('o imc é abaixo: ', abaixo)\n",
        "print('o imc é normal: ', normal)\n",
        "print('o imc é acima: ', acima)"
      ],
      "metadata": {
        "colab": {
          "base_uri": "https://localhost:8080/"
        },
        "id": "A1PQ4_532DLZ",
        "outputId": "998e5820-479a-4cf5-bb7f-d8496ed02adc"
      },
      "execution_count": 28,
      "outputs": [
        {
          "output_type": "stream",
          "name": "stdout",
          "text": [
            "digite o peso 50\n",
            "digite a altura 1.6\n",
            "o imc é:  19.531249999999996\n",
            "o imc é abaixo:  False\n",
            "o imc é normal:  True\n",
            "o imc é acima:  False\n"
          ]
        }
      ]
    },
    {
      "cell_type": "markdown",
      "source": [
        "idade e altura"
      ],
      "metadata": {
        "id": "VGDOsVDd81tj"
      }
    },
    {
      "cell_type": "code",
      "source": [
        "#entrada\n",
        "idade=float(input('digite a idade '))\n",
        "altura=float(input('digite a altura '))\n",
        "\n",
        "#processamento\n",
        "pode_participar=(idade>17.9 and altura>1.75)\n",
        "nao_pode_participar=(idade<18 and altura<1.75)\n",
        "#saida\n",
        "print('o usuário pode participar: ',pode_participar)\n",
        "print('o usuário não pode participar: ',nao_pode_participar)\n"
      ],
      "metadata": {
        "colab": {
          "base_uri": "https://localhost:8080/"
        },
        "id": "e5ELZkiv9EOx",
        "outputId": "6e6e6705-eff0-46a5-afcf-454220278285"
      },
      "execution_count": 27,
      "outputs": [
        {
          "output_type": "stream",
          "name": "stdout",
          "text": [
            "digite a idade 19\n",
            "digite a altura 1.80\n",
            "o usuário pode participar:  True\n",
            "o usuário não pode participar:  False\n"
          ]
        }
      ]
    }
  ]
}