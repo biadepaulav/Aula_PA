{
  "nbformat": 4,
  "nbformat_minor": 0,
  "metadata": {
    "colab": {
      "provenance": [],
      "authorship_tag": "ABX9TyM7iT18TE1Ueb0+yqxY7Vih",
      "include_colab_link": true
    },
    "kernelspec": {
      "name": "python3",
      "display_name": "Python 3"
    },
    "language_info": {
      "name": "python"
    }
  },
  "cells": [
    {
      "cell_type": "markdown",
      "metadata": {
        "id": "view-in-github",
        "colab_type": "text"
      },
      "source": [
        "<a href=\"https://colab.research.google.com/github/biadepaulav/Aula_PA/blob/main/farmacia.ipynb\" target=\"_parent\"><img src=\"https://colab.research.google.com/assets/colab-badge.svg\" alt=\"Open In Colab\"/></a>"
      ]
    },
    {
      "cell_type": "markdown",
      "source": [
        "farmacia"
      ],
      "metadata": {
        "id": "G_m_sb2m3rGD"
      }
    },
    {
      "cell_type": "code",
      "execution_count": 15,
      "metadata": {
        "colab": {
          "base_uri": "https://localhost:8080/"
        },
        "id": "hH2cp-y62H_n",
        "outputId": "4467d752-077e-4e5d-c2df-d64de5416d6b"
      },
      "outputs": [
        {
          "output_type": "stream",
          "name": "stdout",
          "text": [
            "digite o valor1234\n",
            "Digite a idade25\n",
            "20% de desconto\n"
          ]
        }
      ],
      "source": [
        " #entrada\n",
        " valor=float(input('digite o valor'))\n",
        " idade=int(input('Digite a idade'))\n",
        "\n",
        " #processamento\n",
        "if idade < 12:\n",
        "    print(\"15% de desconto\")\n",
        "elif idade>60 or idade<75:\n",
        "    print(\"20% de desconto\")\n",
        "elif idade>75:\n",
        "    print('25% desconto')"
      ]
    }
  ]
}