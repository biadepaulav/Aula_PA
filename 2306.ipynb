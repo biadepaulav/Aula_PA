{
  "nbformat": 4,
  "nbformat_minor": 0,
  "metadata": {
    "colab": {
      "provenance": [],
      "authorship_tag": "ABX9TyOeakLGWheRHQGdK7amYpNq",
      "include_colab_link": true
    },
    "kernelspec": {
      "name": "python3",
      "display_name": "Python 3"
    },
    "language_info": {
      "name": "python"
    }
  },
  "cells": [
    {
      "cell_type": "markdown",
      "metadata": {
        "id": "view-in-github",
        "colab_type": "text"
      },
      "source": [
        "<a href=\"https://colab.research.google.com/github/biadepaulav/Aula_PA/blob/main/2306.ipynb\" target=\"_parent\"><img src=\"https://colab.research.google.com/assets/colab-badge.svg\" alt=\"Open In Colab\"/></a>"
      ]
    },
    {
      "cell_type": "code",
      "execution_count": 1,
      "metadata": {
        "id": "dtTv_5ZiDzW5"
      },
      "outputs": [],
      "source": [
        "nome= [\"beatriz\",\"isabelly\",\"Fernanda\"]"
      ]
    },
    {
      "cell_type": "code",
      "source": [
        "print (nome)"
      ],
      "metadata": {
        "colab": {
          "base_uri": "https://localhost:8080/"
        },
        "id": "0vT8GT0WE7Ba",
        "outputId": "478ebcfb-826a-4713-bafc-dc9c5a98a9bb"
      },
      "execution_count": 2,
      "outputs": [
        {
          "output_type": "stream",
          "name": "stdout",
          "text": [
            "['beatriz', 'isabelly', 'Fernanda']\n"
          ]
        }
      ]
    },
    {
      "cell_type": "code",
      "source": [
        "nome.append(\"Maria\")"
      ],
      "metadata": {
        "id": "3RmjbSNZE-qC"
      },
      "execution_count": 3,
      "outputs": []
    },
    {
      "cell_type": "code",
      "source": [
        "print(nome)"
      ],
      "metadata": {
        "colab": {
          "base_uri": "https://localhost:8080/"
        },
        "id": "7jIHwtaGFRDH",
        "outputId": "bd8d0cea-2cb2-4b01-cdf0-a934336db3c3"
      },
      "execution_count": 4,
      "outputs": [
        {
          "output_type": "stream",
          "name": "stdout",
          "text": [
            "['beatriz', 'isabelly', 'Fernanda', 'Maria']\n"
          ]
        }
      ]
    },
    {
      "cell_type": "code",
      "source": [
        "print (nome[3])"
      ],
      "metadata": {
        "colab": {
          "base_uri": "https://localhost:8080/"
        },
        "id": "BAuIfn_9Fb2i",
        "outputId": "906bc781-064a-4674-fc8d-de6355ba28e6"
      },
      "execution_count": 5,
      "outputs": [
        {
          "output_type": "stream",
          "name": "stdout",
          "text": [
            "Maria\n"
          ]
        }
      ]
    },
    {
      "cell_type": "code",
      "source": [
        "nome.remove(\"Maria\")"
      ],
      "metadata": {
        "id": "biRfZjsiFmId"
      },
      "execution_count": 6,
      "outputs": []
    },
    {
      "cell_type": "code",
      "source": [
        "print(nome)"
      ],
      "metadata": {
        "colab": {
          "base_uri": "https://localhost:8080/"
        },
        "id": "wJ5F-eJXFvQm",
        "outputId": "222a1e18-2eae-4928-9c2a-984156059b04"
      },
      "execution_count": 7,
      "outputs": [
        {
          "output_type": "stream",
          "name": "stdout",
          "text": [
            "['beatriz', 'isabelly', 'Fernanda']\n"
          ]
        }
      ]
    },
    {
      "cell_type": "code",
      "source": [
        "nome.pop(0)"
      ],
      "metadata": {
        "colab": {
          "base_uri": "https://localhost:8080/",
          "height": 35
        },
        "id": "Yx21h9uPFyoj",
        "outputId": "fd0fee92-5160-477b-e322-699b81eebe0b"
      },
      "execution_count": 9,
      "outputs": [
        {
          "output_type": "execute_result",
          "data": {
            "text/plain": [
              "'beatriz'"
            ],
            "application/vnd.google.colaboratory.intrinsic+json": {
              "type": "string"
            }
          },
          "metadata": {},
          "execution_count": 9
        }
      ]
    },
    {
      "cell_type": "code",
      "source": [
        "print(nome)"
      ],
      "metadata": {
        "colab": {
          "base_uri": "https://localhost:8080/"
        },
        "id": "_Nrfuw5EGCZW",
        "outputId": "b03ae85b-a62c-46e4-bdde-cd66e29dcf4a"
      },
      "execution_count": 10,
      "outputs": [
        {
          "output_type": "stream",
          "name": "stdout",
          "text": [
            "['isabelly', 'Fernanda']\n"
          ]
        }
      ]
    },
    {
      "cell_type": "code",
      "source": [
        "frutas = (\"uva\", \"manga\", \"laranja\")"
      ],
      "metadata": {
        "id": "8ZH3FnqjGO1I"
      },
      "execution_count": 14,
      "outputs": []
    },
    {
      "cell_type": "code",
      "source": [
        "print (frutas)"
      ],
      "metadata": {
        "colab": {
          "base_uri": "https://localhost:8080/"
        },
        "id": "tDWokZXOGbAE",
        "outputId": "30d98d12-a7fc-4eee-8a5a-28d39c394d41"
      },
      "execution_count": 15,
      "outputs": [
        {
          "output_type": "stream",
          "name": "stdout",
          "text": [
            "('uva', 'manga', 'laranja')\n"
          ]
        }
      ]
    },
    {
      "cell_type": "code",
      "source": [
        "for i in range (5):\n",
        "  print(i)"
      ],
      "metadata": {
        "colab": {
          "base_uri": "https://localhost:8080/"
        },
        "id": "7CvKsvcTHHjz",
        "outputId": "ae11a4df-f05e-4089-d435-14a3606e7711"
      },
      "execution_count": 21,
      "outputs": [
        {
          "output_type": "stream",
          "name": "stdout",
          "text": [
            "0\n",
            "1\n",
            "2\n",
            "3\n",
            "4\n"
          ]
        }
      ]
    },
    {
      "cell_type": "code",
      "source": [
        "for nome in nome:\n",
        "  print (nome)"
      ],
      "metadata": {
        "colab": {
          "base_uri": "https://localhost:8080/"
        },
        "id": "HtD5oyNzHk4-",
        "outputId": "4c8dd88b-39d7-4c79-9f3d-84e25c0b3587"
      },
      "execution_count": 19,
      "outputs": [
        {
          "output_type": "stream",
          "name": "stdout",
          "text": [
            "isabelly\n",
            "Fernanda\n"
          ]
        }
      ]
    },
    {
      "cell_type": "code",
      "source": [
        "for nome in \"Fernanda\":\n",
        "  print (nome)"
      ],
      "metadata": {
        "colab": {
          "base_uri": "https://localhost:8080/"
        },
        "id": "v4MVDx2xIXKv",
        "outputId": "f5e930bc-05d7-4e92-bd0e-fe15dc46107e"
      },
      "execution_count": 23,
      "outputs": [
        {
          "output_type": "stream",
          "name": "stdout",
          "text": [
            "F\n",
            "e\n",
            "r\n",
            "n\n",
            "a\n",
            "n\n",
            "d\n",
            "a\n"
          ]
        }
      ]
    },
    {
      "cell_type": "code",
      "source": [
        "for nome in range (1):\n",
        "  print (nome)"
      ],
      "metadata": {
        "colab": {
          "base_uri": "https://localhost:8080/"
        },
        "id": "u3XmSHFvI_eL",
        "outputId": "25534657-74ff-45c8-f364-c4a35eba17ce"
      },
      "execution_count": 30,
      "outputs": [
        {
          "output_type": "stream",
          "name": "stdout",
          "text": [
            "0\n"
          ]
        }
      ]
    },
    {
      "cell_type": "code",
      "source": [
        "contador= 0\n",
        "while contador < 5:\n",
        "  print (contador)\n",
        "  contador += 1"
      ],
      "metadata": {
        "colab": {
          "base_uri": "https://localhost:8080/"
        },
        "id": "hz5h3_LPJl7m",
        "outputId": "19c44057-022f-4cd9-9eb1-d1c1aa9a8ecf"
      },
      "execution_count": 29,
      "outputs": [
        {
          "output_type": "stream",
          "name": "stdout",
          "text": [
            "0\n",
            "1\n",
            "2\n",
            "3\n",
            "4\n"
          ]
        }
      ]
    },
    {
      "cell_type": "markdown",
      "source": [
        "contar de um a 10"
      ],
      "metadata": {
        "id": "Dn1bugR8K_BM"
      }
    },
    {
      "cell_type": "code",
      "source": [
        "for i in range (0,11):\n",
        "  print(i)"
      ],
      "metadata": {
        "colab": {
          "base_uri": "https://localhost:8080/"
        },
        "id": "9-A30wRYKBbd",
        "outputId": "5cbbed86-7078-427c-ebcb-baecb866a5cb"
      },
      "execution_count": 32,
      "outputs": [
        {
          "output_type": "stream",
          "name": "stdout",
          "text": [
            "0\n",
            "1\n",
            "2\n",
            "3\n",
            "4\n",
            "5\n",
            "6\n",
            "7\n",
            "8\n",
            "9\n",
            "10\n"
          ]
        }
      ]
    },
    {
      "cell_type": "code",
      "source": [
        "for i in range (3,7):\n",
        "  print(i)"
      ],
      "metadata": {
        "colab": {
          "base_uri": "https://localhost:8080/"
        },
        "id": "yjK_52ZBLlX0",
        "outputId": "ffb66ac0-357d-449a-d8ac-7e14f7621e43"
      },
      "execution_count": 33,
      "outputs": [
        {
          "output_type": "stream",
          "name": "stdout",
          "text": [
            "3\n",
            "4\n",
            "5\n",
            "6\n"
          ]
        }
      ]
    },
    {
      "cell_type": "code",
      "source": [],
      "metadata": {
        "id": "IweUjVzvL-07"
      },
      "execution_count": null,
      "outputs": []
    },
    {
      "cell_type": "code",
      "source": [
        "soma = 0\n",
        "for i in range (1,11):\n",
        "  soma += i\n",
        "print (\"soma:\", soma)"
      ],
      "metadata": {
        "colab": {
          "base_uri": "https://localhost:8080/"
        },
        "id": "WhatjXBMMACL",
        "outputId": "b96c8a54-522f-486f-dad8-c71f7baf2b66"
      },
      "execution_count": 40,
      "outputs": [
        {
          "output_type": "stream",
          "name": "stdout",
          "text": [
            "soma: 55\n"
          ]
        }
      ]
    },
    {
      "cell_type": "code",
      "source": [
        "n = int(input(\"digite um número\"))\n",
        "for i in range (1,11):\n",
        "  print(f\"{n}x {i}={n*i}\")"
      ],
      "metadata": {
        "colab": {
          "base_uri": "https://localhost:8080/"
        },
        "id": "ujAJTJfmNVGO",
        "outputId": "fb122211-721a-4541-cc5d-b802911166cf"
      },
      "execution_count": 45,
      "outputs": [
        {
          "output_type": "stream",
          "name": "stdout",
          "text": [
            "digite um número3\n",
            "3x 1=3\n",
            "3x 2=6\n",
            "3x 3=9\n",
            "3x 4=12\n",
            "3x 5=15\n",
            "3x 6=18\n",
            "3x 7=21\n",
            "3x 8=24\n",
            "3x 9=27\n",
            "3x 10=30\n"
          ]
        }
      ]
    },
    {
      "cell_type": "code",
      "source": [
        "for i in range (0,21):\n",
        "  if i % 2 == 0:\n",
        "    print(i)"
      ],
      "metadata": {
        "colab": {
          "base_uri": "https://localhost:8080/"
        },
        "id": "zTEM_VBMP50C",
        "outputId": "f8a515ae-20b7-4786-d0a1-c2e836ed54ff"
      },
      "execution_count": 49,
      "outputs": [
        {
          "output_type": "stream",
          "name": "stdout",
          "text": [
            "0\n",
            "2\n",
            "4\n",
            "6\n",
            "8\n",
            "10\n",
            "12\n",
            "14\n",
            "16\n",
            "18\n",
            "20\n"
          ]
        }
      ]
    },
    {
      "cell_type": "code",
      "source": [
        "for i in range (0,21,2):\n",
        "    print(i)"
      ],
      "metadata": {
        "colab": {
          "base_uri": "https://localhost:8080/"
        },
        "id": "VYbdEKDISatr",
        "outputId": "19030dab-d6cb-470f-c50c-251227e97a5e"
      },
      "execution_count": 50,
      "outputs": [
        {
          "output_type": "stream",
          "name": "stdout",
          "text": [
            "0\n",
            "2\n",
            "4\n",
            "6\n",
            "8\n",
            "10\n",
            "12\n",
            "14\n",
            "16\n",
            "18\n",
            "20\n"
          ]
        }
      ]
    },
    {
      "cell_type": "code",
      "source": [
        "for i in range (0,21,3):\n",
        "    print(i)"
      ],
      "metadata": {
        "colab": {
          "base_uri": "https://localhost:8080/"
        },
        "id": "LdVkNKN3SsxW",
        "outputId": "1e45aa7c-7208-40de-a51a-cdb1a802de9c"
      },
      "execution_count": 51,
      "outputs": [
        {
          "output_type": "stream",
          "name": "stdout",
          "text": [
            "0\n",
            "3\n",
            "6\n",
            "9\n",
            "12\n",
            "15\n",
            "18\n"
          ]
        }
      ]
    },
    {
      "cell_type": "code",
      "source": [
        "for i in range(10,-1,-1):\n",
        "  print(i)"
      ],
      "metadata": {
        "colab": {
          "base_uri": "https://localhost:8080/"
        },
        "id": "Nj31bsIaTX7v",
        "outputId": "8b0cec2c-3fc3-47cd-846c-5382f0e52d20"
      },
      "execution_count": 52,
      "outputs": [
        {
          "output_type": "stream",
          "name": "stdout",
          "text": [
            "10\n",
            "9\n",
            "8\n",
            "7\n",
            "6\n",
            "5\n",
            "4\n",
            "3\n",
            "2\n",
            "1\n",
            "0\n"
          ]
        }
      ]
    },
    {
      "cell_type": "code",
      "source": [
        "soma=0\n",
        "num=int(input(\"digite um numero(0 para sair)\"))\n",
        "while num!=0:\n",
        " soma += num\n",
        " num=int(input(\"digite outro numero (0 para sair):\"))\n",
        "print(\"soma total:\" ,soma)"
      ],
      "metadata": {
        "colab": {
          "base_uri": "https://localhost:8080/"
        },
        "id": "nnfvtsD6UIUd",
        "outputId": "5a372bab-e1bd-4dcd-bb6f-09e2d6343014"
      },
      "execution_count": 56,
      "outputs": [
        {
          "output_type": "stream",
          "name": "stdout",
          "text": [
            "digite um numero(0 para sair)8\n",
            "digite outro numero (0 para sair):4\n",
            "digite outro numero (0 para sair):0\n",
            "soma total: 12\n"
          ]
        }
      ]
    },
    {
      "cell_type": "code",
      "source": [
        "tentativas = 0\n",
        "while tentativas < 3:\n",
        "  if 123==int(input(\"digite a sua senha \")):\n",
        "    print(\"senha correta\")\n",
        "    tentativas +=3\n",
        "  else:\n",
        "    print(\"senha incorreta\")\n",
        "    tentativas += 1"
      ],
      "metadata": {
        "colab": {
          "base_uri": "https://localhost:8080/"
        },
        "id": "x4LCy4yNWnRy",
        "outputId": "e8c07344-53aa-4db8-a238-1396467ebf18"
      },
      "execution_count": 80,
      "outputs": [
        {
          "output_type": "stream",
          "name": "stdout",
          "text": [
            "digite a sua senha 1234\n",
            "senha incorreta\n",
            "digite a sua senha 12345\n",
            "senha incorreta\n",
            "digite a sua senha 123\n",
            "senha correta\n"
          ]
        }
      ]
    }
  ]
}